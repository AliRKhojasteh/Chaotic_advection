{
 "cells": [
  {
   "cell_type": "markdown",
   "metadata": {},
   "source": [
    "<div style=\"background-color: #252565; padding: 10px; border: 10px solid #ccc; border-radius: 50px; box-sizing: border-box;\">\n",
    "    <h2 style=\"text-align: center; color: #FFFFFF; font-size: 25px;\">Blinking vortex</h2>\n",
    "</div>"
   ]
  },
  {
   "cell_type": "code",
   "execution_count": null,
   "metadata": {},
   "outputs": [],
   "source": []
  }
 ],
 "metadata": {
  "language_info": {
   "name": "python"
  }
 },
 "nbformat": 4,
 "nbformat_minor": 2
}
